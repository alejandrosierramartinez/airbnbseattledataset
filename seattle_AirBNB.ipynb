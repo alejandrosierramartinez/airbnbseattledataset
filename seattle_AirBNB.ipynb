{
 "cells": [
  {
   "cell_type": "markdown",
   "metadata": {},
   "source": [
    "## Seattle AirBNB dataset"
   ]
  },
  {
   "cell_type": "markdown",
   "metadata": {},
   "source": [
    "## Questions of interest:\n",
    "- can we predict price for a house?\n",
    "- can we predict reviews for a house?\n",
    "- can we predict availability for a house?"
   ]
  },
  {
   "cell_type": "code",
   "execution_count": 554,
   "metadata": {},
   "outputs": [],
   "source": [
    "# import packages\n",
    "import numpy as np\n",
    "import pandas as pd\n",
    "import matplotlib.pyplot as plt\n",
    "import seaborn as sb\n",
    "import datetime as dt\n",
    "\n",
    "%matplotlib inline"
   ]
  },
  {
   "cell_type": "code",
   "execution_count": 555,
   "metadata": {},
   "outputs": [],
   "source": [
    "#load data\n",
    "calendar = pd.read_csv('seattle_calendar.csv')\n",
    "listings = pd.read_csv('seattle_listings.csv')\n",
    "reviews = pd.read_csv('seattle_reviews.csv')"
   ]
  },
  {
   "cell_type": "code",
   "execution_count": 556,
   "metadata": {},
   "outputs": [],
   "source": [
    "#create backup copy\n",
    "calendar_copy = calendar.copy()\n",
    "listings_copy = listings.copy()\n",
    "reviews_copy = reviews.copy()"
   ]
  },
  {
   "cell_type": "code",
   "execution_count": 557,
   "metadata": {},
   "outputs": [
    {
     "name": "stdout",
     "output_type": "stream",
     "text": [
      "(1393570, 4)\n",
      "listing_id     int64\n",
      "date          object\n",
      "available     object\n",
      "price         object\n",
      "dtype: object\n",
      "<class 'pandas.core.frame.DataFrame'>\n",
      "RangeIndex: 1393570 entries, 0 to 1393569\n",
      "Data columns (total 4 columns):\n",
      " #   Column      Non-Null Count    Dtype \n",
      "---  ------      --------------    ----- \n",
      " 0   listing_id  1393570 non-null  int64 \n",
      " 1   date        1393570 non-null  object\n",
      " 2   available   1393570 non-null  object\n",
      " 3   price       934542 non-null   object\n",
      "dtypes: int64(1), object(3)\n",
      "memory usage: 42.5+ MB\n",
      "None\n"
     ]
    }
   ],
   "source": [
    "#overview of shape and composition calendar\n",
    "print(calendar.shape)\n",
    "print(calendar.dtypes)\n",
    "print(calendar.info())"
   ]
  },
  {
   "cell_type": "code",
   "execution_count": 558,
   "metadata": {},
   "outputs": [
    {
     "data": {
      "text/plain": [
       "365"
      ]
     },
     "execution_count": 558,
     "metadata": {},
     "output_type": "execute_result"
    }
   ],
   "source": [
    "calendar.date.nunique()"
   ]
  },
  {
   "cell_type": "markdown",
   "metadata": {},
   "source": [
    "For every house, we have the information of price and availability day by day. In total, it adds up to over 1 million observations"
   ]
  },
  {
   "cell_type": "markdown",
   "metadata": {},
   "source": [
    "Data quality issues calendar df:\n",
    "    - convert date to datetype\n",
    "    - convert available to boolean\n",
    "    - convert price to int/float"
   ]
  },
  {
   "cell_type": "code",
   "execution_count": 559,
   "metadata": {},
   "outputs": [
    {
     "name": "stdout",
     "output_type": "stream",
     "text": [
      "(84849, 6)\n"
     ]
    }
   ],
   "source": [
    "#overview of shape and composition reviews\n",
    "print(reviews.shape)"
   ]
  },
  {
   "cell_type": "code",
   "execution_count": 560,
   "metadata": {},
   "outputs": [
    {
     "name": "stdout",
     "output_type": "stream",
     "text": [
      "<class 'pandas.core.frame.DataFrame'>\n",
      "RangeIndex: 84849 entries, 0 to 84848\n",
      "Data columns (total 6 columns):\n",
      " #   Column         Non-Null Count  Dtype \n",
      "---  ------         --------------  ----- \n",
      " 0   listing_id     84849 non-null  int64 \n",
      " 1   id             84849 non-null  int64 \n",
      " 2   date           84849 non-null  object\n",
      " 3   reviewer_id    84849 non-null  int64 \n",
      " 4   reviewer_name  84849 non-null  object\n",
      " 5   comments       84831 non-null  object\n",
      "dtypes: int64(3), object(3)\n",
      "memory usage: 3.9+ MB\n"
     ]
    }
   ],
   "source": [
    "reviews.info()"
   ]
  },
  {
   "cell_type": "code",
   "execution_count": 561,
   "metadata": {},
   "outputs": [
    {
     "data": {
      "text/plain": [
       "206203      67\n",
       "15121499    32\n",
       "5775807     19\n",
       "2734499     19\n",
       "29590276    18\n",
       "            ..\n",
       "423381       6\n",
       "594768       6\n",
       "19235033     6\n",
       "13120075     6\n",
       "63815        6\n",
       "Name: reviewer_id, Length: 160, dtype: int64"
      ]
     },
     "execution_count": 561,
     "metadata": {},
     "output_type": "execute_result"
    }
   ],
   "source": [
    "#return counts greater than 1\n",
    "reviews['reviewer_id'].value_counts().loc[lambda x : x>5]"
   ]
  },
  {
   "cell_type": "code",
   "execution_count": 562,
   "metadata": {},
   "outputs": [
    {
     "data": {
      "text/plain": [
       "'Despite our late booking request, Rachel & Jon were very responsive and helpful over email. It was a great place to stay - the location was ideal, the house was clean, well-furnished, the room was cozy, and the cat made good company. Overall, a lovely experience and I would definitely recommend the Farmhouse! '"
      ]
     },
     "execution_count": 562,
     "metadata": {},
     "output_type": "execute_result"
    }
   ],
   "source": [
    "reviews.comments[16]"
   ]
  },
  {
   "cell_type": "markdown",
   "metadata": {},
   "source": [
    "For every house, we have the written reviews recieved and who made them."
   ]
  },
  {
   "cell_type": "markdown",
   "metadata": {},
   "source": [
    "Data quality issues listings df:\n",
    "    - convert date to datetype"
   ]
  },
  {
   "cell_type": "code",
   "execution_count": 563,
   "metadata": {},
   "outputs": [
    {
     "name": "stdout",
     "output_type": "stream",
     "text": [
      "(3818, 92)\n",
      "id                                    int64\n",
      "listing_url                          object\n",
      "scrape_id                             int64\n",
      "last_scraped                         object\n",
      "name                                 object\n",
      "                                     ...   \n",
      "cancellation_policy                  object\n",
      "require_guest_profile_picture        object\n",
      "require_guest_phone_verification     object\n",
      "calculated_host_listings_count        int64\n",
      "reviews_per_month                   float64\n",
      "Length: 92, dtype: object\n"
     ]
    }
   ],
   "source": [
    "#overview of shape and composition listings\n",
    "print(listings.shape)\n",
    "print(listings.dtypes)"
   ]
  },
  {
   "cell_type": "code",
   "execution_count": 564,
   "metadata": {},
   "outputs": [
    {
     "name": "stdout",
     "output_type": "stream",
     "text": [
      "<class 'pandas.core.frame.DataFrame'>\n",
      "RangeIndex: 3818 entries, 0 to 3817\n",
      "Data columns (total 92 columns):\n",
      " #   Column                            Non-Null Count  Dtype  \n",
      "---  ------                            --------------  -----  \n",
      " 0   id                                3818 non-null   int64  \n",
      " 1   listing_url                       3818 non-null   object \n",
      " 2   scrape_id                         3818 non-null   int64  \n",
      " 3   last_scraped                      3818 non-null   object \n",
      " 4   name                              3818 non-null   object \n",
      " 5   summary                           3641 non-null   object \n",
      " 6   space                             3249 non-null   object \n",
      " 7   description                       3818 non-null   object \n",
      " 8   experiences_offered               3818 non-null   object \n",
      " 9   neighborhood_overview             2786 non-null   object \n",
      " 10  notes                             2212 non-null   object \n",
      " 11  transit                           2884 non-null   object \n",
      " 12  thumbnail_url                     3498 non-null   object \n",
      " 13  medium_url                        3498 non-null   object \n",
      " 14  picture_url                       3818 non-null   object \n",
      " 15  xl_picture_url                    3498 non-null   object \n",
      " 16  host_id                           3818 non-null   int64  \n",
      " 17  host_url                          3818 non-null   object \n",
      " 18  host_name                         3816 non-null   object \n",
      " 19  host_since                        3816 non-null   object \n",
      " 20  host_location                     3810 non-null   object \n",
      " 21  host_about                        2959 non-null   object \n",
      " 22  host_response_time                3295 non-null   object \n",
      " 23  host_response_rate                3295 non-null   object \n",
      " 24  host_acceptance_rate              3045 non-null   object \n",
      " 25  host_is_superhost                 3816 non-null   object \n",
      " 26  host_thumbnail_url                3816 non-null   object \n",
      " 27  host_picture_url                  3816 non-null   object \n",
      " 28  host_neighbourhood                3518 non-null   object \n",
      " 29  host_listings_count               3816 non-null   float64\n",
      " 30  host_total_listings_count         3816 non-null   float64\n",
      " 31  host_verifications                3818 non-null   object \n",
      " 32  host_has_profile_pic              3816 non-null   object \n",
      " 33  host_identity_verified            3816 non-null   object \n",
      " 34  street                            3818 non-null   object \n",
      " 35  neighbourhood                     3402 non-null   object \n",
      " 36  neighbourhood_cleansed            3818 non-null   object \n",
      " 37  neighbourhood_group_cleansed      3818 non-null   object \n",
      " 38  city                              3818 non-null   object \n",
      " 39  state                             3818 non-null   object \n",
      " 40  zipcode                           3811 non-null   object \n",
      " 41  market                            3818 non-null   object \n",
      " 42  smart_location                    3818 non-null   object \n",
      " 43  country_code                      3818 non-null   object \n",
      " 44  country                           3818 non-null   object \n",
      " 45  latitude                          3818 non-null   float64\n",
      " 46  longitude                         3818 non-null   float64\n",
      " 47  is_location_exact                 3818 non-null   object \n",
      " 48  property_type                     3817 non-null   object \n",
      " 49  room_type                         3818 non-null   object \n",
      " 50  accommodates                      3818 non-null   int64  \n",
      " 51  bathrooms                         3802 non-null   float64\n",
      " 52  bedrooms                          3812 non-null   float64\n",
      " 53  beds                              3817 non-null   float64\n",
      " 54  bed_type                          3818 non-null   object \n",
      " 55  amenities                         3818 non-null   object \n",
      " 56  square_feet                       97 non-null     float64\n",
      " 57  price                             3818 non-null   object \n",
      " 58  weekly_price                      2009 non-null   object \n",
      " 59  monthly_price                     1517 non-null   object \n",
      " 60  security_deposit                  1866 non-null   object \n",
      " 61  cleaning_fee                      2788 non-null   object \n",
      " 62  guests_included                   3818 non-null   int64  \n",
      " 63  extra_people                      3818 non-null   object \n",
      " 64  minimum_nights                    3818 non-null   int64  \n",
      " 65  maximum_nights                    3818 non-null   int64  \n",
      " 66  calendar_updated                  3818 non-null   object \n",
      " 67  has_availability                  3818 non-null   object \n",
      " 68  availability_30                   3818 non-null   int64  \n",
      " 69  availability_60                   3818 non-null   int64  \n",
      " 70  availability_90                   3818 non-null   int64  \n",
      " 71  availability_365                  3818 non-null   int64  \n",
      " 72  calendar_last_scraped             3818 non-null   object \n",
      " 73  number_of_reviews                 3818 non-null   int64  \n",
      " 74  first_review                      3191 non-null   object \n",
      " 75  last_review                       3191 non-null   object \n",
      " 76  review_scores_rating              3171 non-null   float64\n",
      " 77  review_scores_accuracy            3160 non-null   float64\n",
      " 78  review_scores_cleanliness         3165 non-null   float64\n",
      " 79  review_scores_checkin             3160 non-null   float64\n",
      " 80  review_scores_communication       3167 non-null   float64\n",
      " 81  review_scores_location            3163 non-null   float64\n",
      " 82  review_scores_value               3162 non-null   float64\n",
      " 83  requires_license                  3818 non-null   object \n",
      " 84  license                           0 non-null      float64\n",
      " 85  jurisdiction_names                3818 non-null   object \n",
      " 86  instant_bookable                  3818 non-null   object \n",
      " 87  cancellation_policy               3818 non-null   object \n",
      " 88  require_guest_profile_picture     3818 non-null   object \n",
      " 89  require_guest_phone_verification  3818 non-null   object \n",
      " 90  calculated_host_listings_count    3818 non-null   int64  \n",
      " 91  reviews_per_month                 3191 non-null   float64\n",
      "dtypes: float64(17), int64(13), object(62)\n",
      "memory usage: 2.7+ MB\n"
     ]
    }
   ],
   "source": [
    "listings.info()"
   ]
  },
  {
   "cell_type": "markdown",
   "metadata": {},
   "source": [
    "This dataframe gives information about several aspects of the booking. Can be divided in sections, host, house description, neighbourhood, booking conditions, reviews."
   ]
  },
  {
   "cell_type": "markdown",
   "metadata": {},
   "source": [
    "Quality issues in listings df:\n",
    "    - drop license column DONE\n",
    "    - drop neighbourhood, work with neighbourhood_group_cleansed and neighborhood_cleansed columns DONE\n",
    "    - drop square feet DONE\n",
    "    - neighborhood_overview copy according to neighbourhood_cleansed\n",
    "    - space create dummy variable or count words\n",
    "    - notes create dummy variable or count words\n",
    "    - transit create dummy variable\n",
    "    - thumbnail_url create dummy variable DONE\n",
    "    - medium_url create dummy variable DONE\n",
    "    - xl_picture_url create dummy variable DONE\n",
    "    - host_about create count words\n",
    "    - host_acceptance_rate, host_response_rate and host_response_time fill with mode DONE\n",
    "    - host_is_superhost convert to bool DONE\n",
    "    - weekly price and monthly price to int. a lot of nans DONE\n",
    "    - security_deposit, cleaning_fee fill with 0 DONE\n",
    "    - first and last review to dtype DONE\n",
    "    - review_scores how to deal with houses without review? fill with mean? DONE"
   ]
  },
  {
   "cell_type": "code",
   "execution_count": 565,
   "metadata": {},
   "outputs": [
    {
     "data": {
      "text/plain": [
       "0           Gilman Dr W, Seattle, WA 98119, United States\n",
       "1       7th Avenue West, Seattle, WA 98119, United States\n",
       "2       West Lee Street, Seattle, WA 98119, United States\n",
       "3       8th Avenue West, Seattle, WA 98119, United States\n",
       "4            14th Ave W, Seattle, WA 98119, United States\n",
       "                              ...                        \n",
       "3813    Northwest 48th Street, Seattle, WA 98107, Unit...\n",
       "3814    Fuhrman Avenue East, Seattle, WA 98102, United...\n",
       "3815    South Laurel Street, Seattle, WA 98178, United...\n",
       "3816    43rd Avenue East, Seattle, WA 98112, United St...\n",
       "3817    Westlake Avenue North, Seattle, WA 98109, Unit...\n",
       "Name: street, Length: 3818, dtype: object"
      ]
     },
     "execution_count": 565,
     "metadata": {},
     "output_type": "execute_result"
    }
   ],
   "source": [
    "listings.street"
   ]
  },
  {
   "cell_type": "markdown",
   "metadata": {},
   "source": [
    "### Wrangle data"
   ]
  },
  {
   "cell_type": "markdown",
   "metadata": {},
   "source": [
    "#### calendar df"
   ]
  },
  {
   "cell_type": "code",
   "execution_count": 566,
   "metadata": {},
   "outputs": [],
   "source": [
    "#convert to boolean available column\n",
    "d = {'t': 1, 'f': 0}\n",
    "calendar['available'] = calendar[\"available\"].replace(d)"
   ]
  },
  {
   "cell_type": "code",
   "execution_count": 567,
   "metadata": {},
   "outputs": [],
   "source": [
    "#convert date to datetime\n",
    "calendar['date'] = pd.to_datetime(calendar['date'])"
   ]
  },
  {
   "cell_type": "markdown",
   "metadata": {},
   "source": [
    "Price column contains several missing values, since it is a stationary feature, it will be filled with the last observation instead of the mean."
   ]
  },
  {
   "cell_type": "code",
   "execution_count": 568,
   "metadata": {},
   "outputs": [],
   "source": [
    "#convert price to int and fill na\n",
    "calendar['price'] = calendar.price.str.replace('$', '').str.replace(',', '').astype(float).fillna(method='ffill')"
   ]
  },
  {
   "cell_type": "code",
   "execution_count": 569,
   "metadata": {},
   "outputs": [
    {
     "data": {
      "text/html": [
       "<div>\n",
       "<style scoped>\n",
       "    .dataframe tbody tr th:only-of-type {\n",
       "        vertical-align: middle;\n",
       "    }\n",
       "\n",
       "    .dataframe tbody tr th {\n",
       "        vertical-align: top;\n",
       "    }\n",
       "\n",
       "    .dataframe thead th {\n",
       "        text-align: right;\n",
       "    }\n",
       "</style>\n",
       "<table border=\"1\" class=\"dataframe\">\n",
       "  <thead>\n",
       "    <tr style=\"text-align: right;\">\n",
       "      <th></th>\n",
       "      <th>listing_id</th>\n",
       "      <th>date</th>\n",
       "      <th>available</th>\n",
       "      <th>price</th>\n",
       "    </tr>\n",
       "  </thead>\n",
       "  <tbody>\n",
       "    <tr>\n",
       "      <th>0</th>\n",
       "      <td>241032</td>\n",
       "      <td>2016-01-04</td>\n",
       "      <td>1</td>\n",
       "      <td>85.0</td>\n",
       "    </tr>\n",
       "    <tr>\n",
       "      <th>1</th>\n",
       "      <td>241032</td>\n",
       "      <td>2016-01-05</td>\n",
       "      <td>1</td>\n",
       "      <td>85.0</td>\n",
       "    </tr>\n",
       "    <tr>\n",
       "      <th>2</th>\n",
       "      <td>241032</td>\n",
       "      <td>2016-01-06</td>\n",
       "      <td>0</td>\n",
       "      <td>85.0</td>\n",
       "    </tr>\n",
       "    <tr>\n",
       "      <th>3</th>\n",
       "      <td>241032</td>\n",
       "      <td>2016-01-07</td>\n",
       "      <td>0</td>\n",
       "      <td>85.0</td>\n",
       "    </tr>\n",
       "    <tr>\n",
       "      <th>4</th>\n",
       "      <td>241032</td>\n",
       "      <td>2016-01-08</td>\n",
       "      <td>0</td>\n",
       "      <td>85.0</td>\n",
       "    </tr>\n",
       "  </tbody>\n",
       "</table>\n",
       "</div>"
      ],
      "text/plain": [
       "   listing_id       date  available  price\n",
       "0      241032 2016-01-04          1   85.0\n",
       "1      241032 2016-01-05          1   85.0\n",
       "2      241032 2016-01-06          0   85.0\n",
       "3      241032 2016-01-07          0   85.0\n",
       "4      241032 2016-01-08          0   85.0"
      ]
     },
     "execution_count": 569,
     "metadata": {},
     "output_type": "execute_result"
    }
   ],
   "source": [
    "calendar.head()"
   ]
  },
  {
   "cell_type": "markdown",
   "metadata": {},
   "source": [
    "#### reviews df"
   ]
  },
  {
   "cell_type": "code",
   "execution_count": 570,
   "metadata": {},
   "outputs": [],
   "source": [
    "#reviews date to datetype\n",
    "reviews['date'] = pd.to_datetime(reviews['date'])"
   ]
  },
  {
   "cell_type": "markdown",
   "metadata": {},
   "source": [
    "#### listings df"
   ]
  },
  {
   "cell_type": "markdown",
   "metadata": {},
   "source": [
    "All variables t or f are going to be converted to boolean"
   ]
  },
  {
   "cell_type": "code",
   "execution_count": 571,
   "metadata": {},
   "outputs": [],
   "source": [
    "#convert to bool type\n",
    "d = {'t': 1, 'f': 0}\n",
    "listings['host_is_superhost'] = listings[\"host_is_superhost\"].replace(d)#.astype(bool)\n",
    "listings['has_availability'] = listings[\"has_availability\"].replace(d)#.astype(bool)\n",
    "listings['require_guest_profile_picture'] = listings[\"require_guest_profile_picture\"].replace(d)#.astype(bool)\n",
    "listings['require_guest_phone_verification'] = listings[\"require_guest_phone_verification\"].replace(d)#.astype(bool)\n",
    "listings['instant_bookable'] = listings[\"instant_bookable\"].replace(d)#.astype(bool)\n",
    "listings['requires_license'] = listings[\"requires_license\"].replace(d)#.astype(bool)\n",
    "listings['is_location_exact'] = listings[\"is_location_exact\"].replace(d)#.astype(bool)\n",
    "listings['host_identity_verified'] = listings[\"host_identity_verified\"].replace(d)#.astype(bool)\n",
    "listings['host_has_profile_pic'] = listings[\"host_has_profile_pic\"].replace(d)#.astype(bool)"
   ]
  },
  {
   "cell_type": "markdown",
   "metadata": {},
   "source": [
    "Fill missing values with mode in categorical variables and convert to int those where it is possible. Remove from variable $ and % signs"
   ]
  },
  {
   "cell_type": "code",
   "execution_count": 572,
   "metadata": {},
   "outputs": [],
   "source": [
    "#host_acceptance_rate, host_response_rate and host_response_time fill with mode\n",
    "listings['host_acceptance_rate'] = listings['host_acceptance_rate'].fillna(listings['host_acceptance_rate'].mode()[0])\n",
    "listings['host_response_rate'] = listings['host_response_rate'].fillna(listings['host_response_rate'].mode()[0])\n",
    "listings['host_response_time'] = listings['host_response_time'].fillna(listings['host_response_time'].mode()[0])\n",
    "listings['host_neighbourhood'] = listings['host_neighbourhood'].fillna(listings['host_neighbourhood'].mode()[0])"
   ]
  },
  {
   "cell_type": "code",
   "execution_count": 573,
   "metadata": {},
   "outputs": [],
   "source": [
    "listings['host_acceptance_rate'] = listings.host_acceptance_rate.str.replace('%', '').astype(int)\n",
    "listings['host_response_rate'] = listings.host_response_rate.str.replace('%', '').astype(int)\n",
    "listings['security_deposit'] = listings.security_deposit.str.replace('$', '').str.replace(',','').fillna(0).astype(float)\n",
    "listings['cleaning_fee'] = listings.cleaning_fee.str.replace('$', '').str.replace(',','').fillna(0).astype(float)\n",
    "listings['extra_people'] = listings.extra_people.str.replace('$', '').str.replace(',','').fillna(0).astype(float)"
   ]
  },
  {
   "cell_type": "code",
   "execution_count": 574,
   "metadata": {},
   "outputs": [],
   "source": [
    "listings['price'] = listings.price.str.replace('$', '').str.replace(',','').astype(float)"
   ]
  },
  {
   "cell_type": "markdown",
   "metadata": {},
   "source": [
    "Fill missing values with mean for the following features"
   ]
  },
  {
   "cell_type": "code",
   "execution_count": 575,
   "metadata": {},
   "outputs": [],
   "source": [
    "#review scores fill with mean\n",
    "listings['review_scores_rating'] = listings['review_scores_rating'].fillna(listings['review_scores_rating'].mean())\n",
    "listings['review_scores_accuracy'] = listings['review_scores_accuracy'].fillna(listings['review_scores_accuracy'].mean())\n",
    "listings['review_scores_cleanliness'] = listings['review_scores_cleanliness'].fillna(listings['review_scores_cleanliness'].mean())\n",
    "listings['review_scores_checkin'] = listings['review_scores_checkin'].fillna(listings['review_scores_checkin'].mean())\n",
    "listings['review_scores_communication'] = listings['review_scores_communication'].fillna(listings['review_scores_communication'].mean())\n",
    "listings['review_scores_location'] = listings['review_scores_location'].fillna(listings['review_scores_location'].mean())\n",
    "listings['review_scores_value'] = listings['review_scores_value'].fillna(listings['review_scores_value'].mean())\n",
    "listings['reviews_per_month'] = listings['reviews_per_month'].fillna(listings['reviews_per_month'].mean())"
   ]
  },
  {
   "cell_type": "markdown",
   "metadata": {},
   "source": [
    "Convert to date format date features"
   ]
  },
  {
   "cell_type": "code",
   "execution_count": 576,
   "metadata": {},
   "outputs": [],
   "source": [
    "#convert dates to datetime\n",
    "today = datetime.date.today()\n",
    "\n",
    "listings['first_review'] = pd.to_datetime(listings['first_review']).fillna(today).map(dt.datetime.toordinal)\n",
    "listings['last_review'] = pd.to_datetime(listings['last_review']).fillna(today).map(dt.datetime.toordinal)\n",
    "listings['calendar_last_scraped'] = pd.to_datetime(listings['calendar_last_scraped']).fillna(today).map(dt.datetime.toordinal)\n",
    "listings['last_scraped'] = pd.to_datetime(listings['last_scraped']).fillna(today).map(dt.datetime.toordinal)\n",
    "listings['host_since'] = pd.to_datetime(listings['host_since']).fillna(today).map(dt.datetime.toordinal)"
   ]
  },
  {
   "cell_type": "markdown",
   "metadata": {},
   "source": [
    "For variables related to pictures, put 1 if there is a picture, 0 otherwise"
   ]
  },
  {
   "cell_type": "code",
   "execution_count": 577,
   "metadata": {},
   "outputs": [],
   "source": [
    "#create dummy variable 1 if there is picture, 0 else\n",
    "listings['thumbnail_url'] = listings.thumbnail_url.isna()\n",
    "listings['medium_url'] = listings.medium_url.isna()\n",
    "listings['picture_url'] = listings.picture_url.isna()\n",
    "listings['xl_picture_url'] = listings.xl_picture_url.isna()\n",
    "listings['host_picture_url'] = listings.host_picture_url.isna()\n",
    "listings['host_thumbnail_url'] = listings.host_thumbnail_url.isna()"
   ]
  },
  {
   "cell_type": "markdown",
   "metadata": {},
   "source": [
    "For text variables involving a description, count the words and use it as numerical variable"
   ]
  },
  {
   "cell_type": "code",
   "execution_count": 578,
   "metadata": {},
   "outputs": [],
   "source": [
    "#create dummy variables where we count text words in descriptions and return as column\n",
    "listings['dummy_summary'] = listings.summary.str.len().fillna(0).astype(int)\n",
    "listings['dummy_transit'] = listings.transit.str.len().fillna(0).astype(int)\n",
    "listings['dummy_space'] = listings.space.str.len().fillna(0).astype(int)\n",
    "listings['dummy_notes'] = listings.notes.str.len().fillna(0).astype(int)\n",
    "listings['dummy_host_about'] = listings.host_about.str.len().fillna(0).astype(int)\n",
    "listings['dummy_neighborhood_overview'] = listings.neighborhood_overview.str.len().fillna(0).astype(int)\n",
    "listings['dummy_description'] = listings.description.str.len().fillna(0).astype(int)"
   ]
  },
  {
   "cell_type": "markdown",
   "metadata": {},
   "source": [
    "Where there is no weekly price and monthly price stated, use the daily price"
   ]
  },
  {
   "cell_type": "code",
   "execution_count": 579,
   "metadata": {},
   "outputs": [],
   "source": [
    "#replace 'weekly_price', 'monthly_price' with price where missing\n",
    "listings['weekly_price'] = listings.weekly_price.str.replace('$', '').str.replace(',','').astype(float).fillna(listings.price)\n",
    "listings['monthly_price'] = listings.monthly_price.str.replace('$', '').str.replace(',','').astype(float).fillna(listings.price)"
   ]
  },
  {
   "cell_type": "markdown",
   "metadata": {},
   "source": [
    "#### create dummy variables for categorical"
   ]
  },
  {
   "cell_type": "markdown",
   "metadata": {},
   "source": [
    "For the following columns, dummy variables are going to be create, putting the unique values as new features and 1 and 0 where it corresponds."
   ]
  },
  {
   "cell_type": "code",
   "execution_count": 580,
   "metadata": {},
   "outputs": [],
   "source": [
    "#create dummy\n",
    "cols_to_dummy = ['host_response_time', 'neighbourhood_group_cleansed', \n",
    "'city', 'state', 'property_type', 'room_type', 'bed_type', 'cancellation_policy', 'calendar_updated']"
   ]
  },
  {
   "cell_type": "code",
   "execution_count": 581,
   "metadata": {},
   "outputs": [],
   "source": [
    "listings = pd.get_dummies(listings, columns = cols_to_dummy)"
   ]
  },
  {
   "cell_type": "code",
   "execution_count": 582,
   "metadata": {},
   "outputs": [],
   "source": [
    "#drop columns\n",
    "#listings = listings.drop(cols_to_dummy, axis=1)"
   ]
  },
  {
   "cell_type": "markdown",
   "metadata": {},
   "source": [
    "For home verification and amenities columns, each observation is a list, so we have to split it and then create the dummy"
   ]
  },
  {
   "cell_type": "code",
   "execution_count": 583,
   "metadata": {},
   "outputs": [],
   "source": [
    "#replace {, }, [, ] characters\n",
    "listings ['amenities'] = listings.amenities.str.replace('{', '', regex=True)\n",
    "listings ['amenities'] = listings.amenities.str.replace('}', '', regex=True)\n",
    "listings ['amenities'] = listings.amenities.str.replace('[', '', regex=True)\n",
    "listings ['amenities'] = listings.amenities.str.replace(']', '', regex=True)\n",
    "\n",
    "listings ['host_verifications'] = listings.host_verifications.str.replace('{', '', regex=True)\n",
    "listings ['host_verifications'] = listings.host_verifications.str.replace('}', '', regex=True)\n",
    "listings ['host_verifications'] = listings.host_verifications.str.replace('[', '', regex=True)\n",
    "listings ['host_verifications'] = listings.host_verifications.str.replace(']', '', regex=True)"
   ]
  },
  {
   "cell_type": "code",
   "execution_count": 584,
   "metadata": {},
   "outputs": [],
   "source": [
    "listings = pd.concat([listings, listings.amenities.str.get_dummies(sep = ',')], axis=1)\n",
    "listings = pd.concat([listings, listings.host_verifications.str.get_dummies(sep = ',')], axis=1)"
   ]
  },
  {
   "cell_type": "markdown",
   "metadata": {},
   "source": [
    "Drop the columns that wont be used.\n",
    "\n",
    "summary, transit, space, notes, host about, neighbourhood overview, description are going to be used as dummy variables.\n",
    "\n",
    "square feet, licence, would be usefull but there are too many missing values\n",
    "\n",
    "country, jurisdiction names, host url, listing url, name, market, experieces offered, smart location, host url, all of them have a unique value so there is no point in using them to classify.\n",
    "\n",
    "neighbourhood, zipcode, neighbourhood cleansed are replace by neighbourhood cluster column.\n",
    "\n",
    "host name, street, would create too many dummy variables and would not fulfill the 10 to 1 rule.\n"
   ]
  },
  {
   "cell_type": "code",
   "execution_count": 585,
   "metadata": {},
   "outputs": [],
   "source": [
    "# wont use\n",
    "cols_to_drop = ['license', 'neighbourhood', 'square_feet', 'experiences_offered', 'market', 'country_code', \n",
    "                'country', 'jurisdiction_names', 'host_url', 'listing_url', 'name', 'summary', 'space', \n",
    "                'description', 'neighborhood_overview', 'notes', 'transit', 'host_url', 'host_name', \n",
    "                'host_about', 'host_neighbourhood', 'neighbourhood_cleansed', 'host_location', 'smart_location', \n",
    "                'zipcode', 'street', 'host_verifications', 'amenities']"
   ]
  },
  {
   "cell_type": "code",
   "execution_count": 586,
   "metadata": {},
   "outputs": [],
   "source": [
    "#drop license, neighbourhood and square feet columns\n",
    "listings = listings.drop(cols_to_drop, axis=1)"
   ]
  },
  {
   "cell_type": "code",
   "execution_count": 591,
   "metadata": {},
   "outputs": [],
   "source": [
    "listings = listings.dropna()"
   ]
  },
  {
   "cell_type": "markdown",
   "metadata": {},
   "source": [
    "## Make predictions"
   ]
  },
  {
   "cell_type": "code",
   "execution_count": 587,
   "metadata": {},
   "outputs": [],
   "source": [
    "X = listings.drop(columns = 'price')"
   ]
  },
  {
   "cell_type": "markdown",
   "metadata": {},
   "source": [
    "#object variables\n",
    "host_since\n",
    "host_verifications ----dummy\n",
    "amenities --- dummie\n",
    "street\n",
    "host_picture_url"
   ]
  },
  {
   "cell_type": "markdown",
   "metadata": {},
   "source": [
    "### predict price"
   ]
  },
  {
   "cell_type": "code",
   "execution_count": 602,
   "metadata": {},
   "outputs": [
    {
     "data": {
      "text/plain": [
       "-2.0463427539646"
      ]
     },
     "execution_count": 602,
     "metadata": {},
     "output_type": "execute_result"
    }
   ],
   "source": [
    "from sklearn.linear_model import LinearRegression\n",
    "from sklearn.model_selection import train_test_split\n",
    "from sklearn.metrics import mean_squared_error, r2_score\n",
    "\n",
    "X = listings.drop(columns = 'price')\n",
    "y = listings['price']\n",
    "\n",
    "X_train, X_test, y_train, y_test = train_test_split(X, y, test_size=0.33, random_state=42)\n",
    "\n",
    "lm_model = LinearRegression(normalize=True)\n",
    "lm_model.fit(X_train, y_train)\n",
    "y_pred = reg.predict(X_test)\n",
    "\n",
    "r2_score(y_test, y_pred)\n",
    "#print(reg.score(X, y))\n",
    "#print(reg.intercept_)"
   ]
  },
  {
   "cell_type": "code",
   "execution_count": null,
   "metadata": {},
   "outputs": [],
   "source": []
  }
 ],
 "metadata": {
  "kernelspec": {
   "display_name": "Python 3",
   "language": "python",
   "name": "python3"
  },
  "language_info": {
   "codemirror_mode": {
    "name": "ipython",
    "version": 3
   },
   "file_extension": ".py",
   "mimetype": "text/x-python",
   "name": "python",
   "nbconvert_exporter": "python",
   "pygments_lexer": "ipython3",
   "version": "3.8.3"
  }
 },
 "nbformat": 4,
 "nbformat_minor": 4
}
