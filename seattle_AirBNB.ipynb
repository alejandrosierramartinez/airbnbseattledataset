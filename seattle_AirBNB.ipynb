{
 "cells": [
  {
   "cell_type": "markdown",
   "metadata": {},
   "source": [
    "## Seattle AirBNB dataset"
   ]
  },
  {
   "cell_type": "markdown",
   "metadata": {},
   "source": [
    "## Questions of interest: Given a reviewer, how will he/she qualify each of the houses?\n",
    "- can we predict price?\n",
    "- can we predict reviews for a house?\n",
    "- pick a reviewer random and predict qualification for any house.\n",
    "- how many reviews from that user we need? Plot by number of reviews.\n"
   ]
  },
  {
   "cell_type": "code",
   "execution_count": 238,
   "metadata": {},
   "outputs": [],
   "source": [
    "# import packages\n",
    "import numpy as np\n",
    "import pandas as pd\n",
    "import matplotlib.pyplot as plt\n",
    "import seaborn as sb\n",
    "import datetime\n",
    "\n",
    "%matplotlib inline"
   ]
  },
  {
   "cell_type": "code",
   "execution_count": 239,
   "metadata": {},
   "outputs": [],
   "source": [
    "#load data\n",
    "calendar = pd.read_csv('seattle_calendar.csv')\n",
    "listings = pd.read_csv('seattle_listings.csv')\n",
    "reviews = pd.read_csv('seattle_reviews.csv')"
   ]
  },
  {
   "cell_type": "code",
   "execution_count": 240,
   "metadata": {},
   "outputs": [
    {
     "name": "stdout",
     "output_type": "stream",
     "text": [
      "(1393570, 4)\n",
      "listing_id     int64\n",
      "date          object\n",
      "available     object\n",
      "price         object\n",
      "dtype: object\n",
      "   listing_id        date available   price\n",
      "0      241032  2016-01-04         t  $85.00\n",
      "1      241032  2016-01-05         t  $85.00\n",
      "2      241032  2016-01-06         f     NaN\n",
      "3      241032  2016-01-07         f     NaN\n",
      "4      241032  2016-01-08         f     NaN\n",
      "5      241032  2016-01-09         f     NaN\n",
      "6      241032  2016-01-10         f     NaN\n",
      "7      241032  2016-01-11         f     NaN\n",
      "8      241032  2016-01-12         f     NaN\n",
      "9      241032  2016-01-13         t  $85.00\n"
     ]
    }
   ],
   "source": [
    "#overview of shape and composition calendar\n",
    "print(calendar.shape)\n",
    "print(calendar.dtypes)\n",
    "print(calendar.head(10))"
   ]
  },
  {
   "cell_type": "code",
   "execution_count": 241,
   "metadata": {},
   "outputs": [
    {
     "data": {
      "text/plain": [
       "365"
      ]
     },
     "execution_count": 241,
     "metadata": {},
     "output_type": "execute_result"
    }
   ],
   "source": [
    "calendar.date.nunique()"
   ]
  },
  {
   "cell_type": "markdown",
   "metadata": {},
   "source": [
    "For every house, we have the information of price and availability day by day"
   ]
  },
  {
   "cell_type": "markdown",
   "metadata": {},
   "source": [
    "Data quality issues calendar df:\n",
    "    - convert date to datetype\n",
    "    - convert available to boolean\n",
    "    - convert price to int/float"
   ]
  },
  {
   "cell_type": "code",
   "execution_count": 242,
   "metadata": {},
   "outputs": [
    {
     "name": "stdout",
     "output_type": "stream",
     "text": [
      "(84849, 6)\n"
     ]
    }
   ],
   "source": [
    "#overview of shape and composition reviews\n",
    "print(reviews.shape)"
   ]
  },
  {
   "cell_type": "code",
   "execution_count": 243,
   "metadata": {},
   "outputs": [
    {
     "name": "stdout",
     "output_type": "stream",
     "text": [
      "<class 'pandas.core.frame.DataFrame'>\n",
      "RangeIndex: 84849 entries, 0 to 84848\n",
      "Data columns (total 6 columns):\n",
      " #   Column         Non-Null Count  Dtype \n",
      "---  ------         --------------  ----- \n",
      " 0   listing_id     84849 non-null  int64 \n",
      " 1   id             84849 non-null  int64 \n",
      " 2   date           84849 non-null  object\n",
      " 3   reviewer_id    84849 non-null  int64 \n",
      " 4   reviewer_name  84849 non-null  object\n",
      " 5   comments       84831 non-null  object\n",
      "dtypes: int64(3), object(3)\n",
      "memory usage: 3.9+ MB\n"
     ]
    }
   ],
   "source": [
    "reviews.info()"
   ]
  },
  {
   "cell_type": "code",
   "execution_count": 244,
   "metadata": {},
   "outputs": [
    {
     "data": {
      "text/plain": [
       "206203      67\n",
       "15121499    32\n",
       "5775807     19\n",
       "2734499     19\n",
       "29590276    18\n",
       "            ..\n",
       "423381       6\n",
       "594768       6\n",
       "19235033     6\n",
       "13120075     6\n",
       "63815        6\n",
       "Name: reviewer_id, Length: 160, dtype: int64"
      ]
     },
     "execution_count": 244,
     "metadata": {},
     "output_type": "execute_result"
    }
   ],
   "source": [
    "#return counts greater than 1\n",
    "reviews['reviewer_id'].value_counts().loc[lambda x : x>5]"
   ]
  },
  {
   "cell_type": "code",
   "execution_count": 245,
   "metadata": {},
   "outputs": [
    {
     "data": {
      "text/plain": [
       "'Despite our late booking request, Rachel & Jon were very responsive and helpful over email. It was a great place to stay - the location was ideal, the house was clean, well-furnished, the room was cozy, and the cat made good company. Overall, a lovely experience and I would definitely recommend the Farmhouse! '"
      ]
     },
     "execution_count": 245,
     "metadata": {},
     "output_type": "execute_result"
    }
   ],
   "source": [
    "reviews.comments[16]"
   ]
  },
  {
   "cell_type": "markdown",
   "metadata": {},
   "source": [
    "For every house, we have the reviews recieved and who made them"
   ]
  },
  {
   "cell_type": "markdown",
   "metadata": {},
   "source": [
    "Data quality issues listings df:\n",
    "    - convert date to datetype"
   ]
  },
  {
   "cell_type": "code",
   "execution_count": 246,
   "metadata": {},
   "outputs": [
    {
     "name": "stdout",
     "output_type": "stream",
     "text": [
      "(3818, 92)\n",
      "id                                    int64\n",
      "listing_url                          object\n",
      "scrape_id                             int64\n",
      "last_scraped                         object\n",
      "name                                 object\n",
      "                                     ...   \n",
      "cancellation_policy                  object\n",
      "require_guest_profile_picture        object\n",
      "require_guest_phone_verification     object\n",
      "calculated_host_listings_count        int64\n",
      "reviews_per_month                   float64\n",
      "Length: 92, dtype: object\n"
     ]
    }
   ],
   "source": [
    "#overview of shape and composition listings\n",
    "print(listings.shape)\n",
    "print(listings.dtypes)"
   ]
  },
  {
   "cell_type": "code",
   "execution_count": 247,
   "metadata": {},
   "outputs": [
    {
     "name": "stdout",
     "output_type": "stream",
     "text": [
      "<class 'pandas.core.frame.DataFrame'>\n",
      "RangeIndex: 3818 entries, 0 to 3817\n",
      "Data columns (total 92 columns):\n",
      " #   Column                            Non-Null Count  Dtype  \n",
      "---  ------                            --------------  -----  \n",
      " 0   id                                3818 non-null   int64  \n",
      " 1   listing_url                       3818 non-null   object \n",
      " 2   scrape_id                         3818 non-null   int64  \n",
      " 3   last_scraped                      3818 non-null   object \n",
      " 4   name                              3818 non-null   object \n",
      " 5   summary                           3641 non-null   object \n",
      " 6   space                             3249 non-null   object \n",
      " 7   description                       3818 non-null   object \n",
      " 8   experiences_offered               3818 non-null   object \n",
      " 9   neighborhood_overview             2786 non-null   object \n",
      " 10  notes                             2212 non-null   object \n",
      " 11  transit                           2884 non-null   object \n",
      " 12  thumbnail_url                     3498 non-null   object \n",
      " 13  medium_url                        3498 non-null   object \n",
      " 14  picture_url                       3818 non-null   object \n",
      " 15  xl_picture_url                    3498 non-null   object \n",
      " 16  host_id                           3818 non-null   int64  \n",
      " 17  host_url                          3818 non-null   object \n",
      " 18  host_name                         3816 non-null   object \n",
      " 19  host_since                        3816 non-null   object \n",
      " 20  host_location                     3810 non-null   object \n",
      " 21  host_about                        2959 non-null   object \n",
      " 22  host_response_time                3295 non-null   object \n",
      " 23  host_response_rate                3295 non-null   object \n",
      " 24  host_acceptance_rate              3045 non-null   object \n",
      " 25  host_is_superhost                 3816 non-null   object \n",
      " 26  host_thumbnail_url                3816 non-null   object \n",
      " 27  host_picture_url                  3816 non-null   object \n",
      " 28  host_neighbourhood                3518 non-null   object \n",
      " 29  host_listings_count               3816 non-null   float64\n",
      " 30  host_total_listings_count         3816 non-null   float64\n",
      " 31  host_verifications                3818 non-null   object \n",
      " 32  host_has_profile_pic              3816 non-null   object \n",
      " 33  host_identity_verified            3816 non-null   object \n",
      " 34  street                            3818 non-null   object \n",
      " 35  neighbourhood                     3402 non-null   object \n",
      " 36  neighbourhood_cleansed            3818 non-null   object \n",
      " 37  neighbourhood_group_cleansed      3818 non-null   object \n",
      " 38  city                              3818 non-null   object \n",
      " 39  state                             3818 non-null   object \n",
      " 40  zipcode                           3811 non-null   object \n",
      " 41  market                            3818 non-null   object \n",
      " 42  smart_location                    3818 non-null   object \n",
      " 43  country_code                      3818 non-null   object \n",
      " 44  country                           3818 non-null   object \n",
      " 45  latitude                          3818 non-null   float64\n",
      " 46  longitude                         3818 non-null   float64\n",
      " 47  is_location_exact                 3818 non-null   object \n",
      " 48  property_type                     3817 non-null   object \n",
      " 49  room_type                         3818 non-null   object \n",
      " 50  accommodates                      3818 non-null   int64  \n",
      " 51  bathrooms                         3802 non-null   float64\n",
      " 52  bedrooms                          3812 non-null   float64\n",
      " 53  beds                              3817 non-null   float64\n",
      " 54  bed_type                          3818 non-null   object \n",
      " 55  amenities                         3818 non-null   object \n",
      " 56  square_feet                       97 non-null     float64\n",
      " 57  price                             3818 non-null   object \n",
      " 58  weekly_price                      2009 non-null   object \n",
      " 59  monthly_price                     1517 non-null   object \n",
      " 60  security_deposit                  1866 non-null   object \n",
      " 61  cleaning_fee                      2788 non-null   object \n",
      " 62  guests_included                   3818 non-null   int64  \n",
      " 63  extra_people                      3818 non-null   object \n",
      " 64  minimum_nights                    3818 non-null   int64  \n",
      " 65  maximum_nights                    3818 non-null   int64  \n",
      " 66  calendar_updated                  3818 non-null   object \n",
      " 67  has_availability                  3818 non-null   object \n",
      " 68  availability_30                   3818 non-null   int64  \n",
      " 69  availability_60                   3818 non-null   int64  \n",
      " 70  availability_90                   3818 non-null   int64  \n",
      " 71  availability_365                  3818 non-null   int64  \n",
      " 72  calendar_last_scraped             3818 non-null   object \n",
      " 73  number_of_reviews                 3818 non-null   int64  \n",
      " 74  first_review                      3191 non-null   object \n",
      " 75  last_review                       3191 non-null   object \n",
      " 76  review_scores_rating              3171 non-null   float64\n",
      " 77  review_scores_accuracy            3160 non-null   float64\n",
      " 78  review_scores_cleanliness         3165 non-null   float64\n",
      " 79  review_scores_checkin             3160 non-null   float64\n",
      " 80  review_scores_communication       3167 non-null   float64\n",
      " 81  review_scores_location            3163 non-null   float64\n",
      " 82  review_scores_value               3162 non-null   float64\n",
      " 83  requires_license                  3818 non-null   object \n",
      " 84  license                           0 non-null      float64\n",
      " 85  jurisdiction_names                3818 non-null   object \n",
      " 86  instant_bookable                  3818 non-null   object \n",
      " 87  cancellation_policy               3818 non-null   object \n",
      " 88  require_guest_profile_picture     3818 non-null   object \n",
      " 89  require_guest_phone_verification  3818 non-null   object \n",
      " 90  calculated_host_listings_count    3818 non-null   int64  \n",
      " 91  reviews_per_month                 3191 non-null   float64\n",
      "dtypes: float64(17), int64(13), object(62)\n",
      "memory usage: 2.7+ MB\n"
     ]
    }
   ],
   "source": [
    "listings.info()"
   ]
  },
  {
   "cell_type": "markdown",
   "metadata": {},
   "source": [
    "Can be divided in sections, host, house description, neighbourhood, reviews"
   ]
  },
  {
   "cell_type": "markdown",
   "metadata": {},
   "source": [
    "Quality issues in listings df:\n",
    "    - drop license column DONE\n",
    "    - drop neighbourhood, work with neighbourhood_group_cleansed and neighborhood_cleansed columns DONE\n",
    "    - drop square feet DONE\n",
    "    - neighborhood_overview copy according to neighbourhood_cleansed\n",
    "    - space create dummy variable or count words\n",
    "    - notes create dummy variable or count words\n",
    "    - transit create dummy variable\n",
    "    - thumbnail_url create dummy variable DONE\n",
    "    - medium_url create dummy variable DONE\n",
    "    - xl_picture_url create dummy variable DONE\n",
    "    - host_about create count words\n",
    "    - host_acceptance_rate, host_response_rate and host_response_time fill with mode DONE\n",
    "    - host_is_superhost convert to bool DONE\n",
    "    - weekly price and monthly price to int. a lot of nans DONE\n",
    "    - security_deposit, cleaning_fee fill with 0 DONE\n",
    "    - first and last review to dtype DONE\n",
    "    - review_scores how to deal with houses without review? fill with mean? DONE"
   ]
  },
  {
   "cell_type": "markdown",
   "metadata": {},
   "source": [
    "It would be interesting to create a reviewer table, get average reviews for each customer. Very few information about reviewers. Only 8% booked more than once.\n",
    "\n",
    "How did they qualify?"
   ]
  },
  {
   "cell_type": "code",
   "execution_count": 248,
   "metadata": {},
   "outputs": [
    {
     "data": {
      "text/plain": [
       "0           Gilman Dr W, Seattle, WA 98119, United States\n",
       "1       7th Avenue West, Seattle, WA 98119, United States\n",
       "2       West Lee Street, Seattle, WA 98119, United States\n",
       "3       8th Avenue West, Seattle, WA 98119, United States\n",
       "4            14th Ave W, Seattle, WA 98119, United States\n",
       "                              ...                        \n",
       "3813    Northwest 48th Street, Seattle, WA 98107, Unit...\n",
       "3814    Fuhrman Avenue East, Seattle, WA 98102, United...\n",
       "3815    South Laurel Street, Seattle, WA 98178, United...\n",
       "3816    43rd Avenue East, Seattle, WA 98112, United St...\n",
       "3817    Westlake Avenue North, Seattle, WA 98109, Unit...\n",
       "Name: street, Length: 3818, dtype: object"
      ]
     },
     "execution_count": 248,
     "metadata": {},
     "output_type": "execute_result"
    }
   ],
   "source": [
    "listings.street"
   ]
  },
  {
   "cell_type": "markdown",
   "metadata": {},
   "source": [
    "### Wrangle data"
   ]
  },
  {
   "cell_type": "markdown",
   "metadata": {},
   "source": [
    "#### calendar df"
   ]
  },
  {
   "cell_type": "code",
   "execution_count": 249,
   "metadata": {},
   "outputs": [],
   "source": [
    "#convert to boolean\n",
    "d = {'t': True, 'f': False}\n",
    "calendar['available'] = calendar[\"available\"].replace(d)"
   ]
  },
  {
   "cell_type": "code",
   "execution_count": 250,
   "metadata": {},
   "outputs": [],
   "source": [
    "#convert date to datetime\n",
    "calendar['date'] = pd.to_datetime(calendar['date'])"
   ]
  },
  {
   "cell_type": "code",
   "execution_count": 251,
   "metadata": {},
   "outputs": [],
   "source": [
    "#convert price to int\n",
    "calendar['price'] = calendar.price.str.replace('$', '').str.replace(',', '').astype(float)"
   ]
  },
  {
   "cell_type": "code",
   "execution_count": 252,
   "metadata": {},
   "outputs": [
    {
     "data": {
      "text/html": [
       "<div>\n",
       "<style scoped>\n",
       "    .dataframe tbody tr th:only-of-type {\n",
       "        vertical-align: middle;\n",
       "    }\n",
       "\n",
       "    .dataframe tbody tr th {\n",
       "        vertical-align: top;\n",
       "    }\n",
       "\n",
       "    .dataframe thead th {\n",
       "        text-align: right;\n",
       "    }\n",
       "</style>\n",
       "<table border=\"1\" class=\"dataframe\">\n",
       "  <thead>\n",
       "    <tr style=\"text-align: right;\">\n",
       "      <th></th>\n",
       "      <th>listing_id</th>\n",
       "      <th>date</th>\n",
       "      <th>available</th>\n",
       "      <th>price</th>\n",
       "    </tr>\n",
       "  </thead>\n",
       "  <tbody>\n",
       "    <tr>\n",
       "      <th>0</th>\n",
       "      <td>241032</td>\n",
       "      <td>2016-01-04</td>\n",
       "      <td>True</td>\n",
       "      <td>85.0</td>\n",
       "    </tr>\n",
       "    <tr>\n",
       "      <th>1</th>\n",
       "      <td>241032</td>\n",
       "      <td>2016-01-05</td>\n",
       "      <td>True</td>\n",
       "      <td>85.0</td>\n",
       "    </tr>\n",
       "    <tr>\n",
       "      <th>2</th>\n",
       "      <td>241032</td>\n",
       "      <td>2016-01-06</td>\n",
       "      <td>False</td>\n",
       "      <td>NaN</td>\n",
       "    </tr>\n",
       "    <tr>\n",
       "      <th>3</th>\n",
       "      <td>241032</td>\n",
       "      <td>2016-01-07</td>\n",
       "      <td>False</td>\n",
       "      <td>NaN</td>\n",
       "    </tr>\n",
       "    <tr>\n",
       "      <th>4</th>\n",
       "      <td>241032</td>\n",
       "      <td>2016-01-08</td>\n",
       "      <td>False</td>\n",
       "      <td>NaN</td>\n",
       "    </tr>\n",
       "  </tbody>\n",
       "</table>\n",
       "</div>"
      ],
      "text/plain": [
       "   listing_id       date  available  price\n",
       "0      241032 2016-01-04       True   85.0\n",
       "1      241032 2016-01-05       True   85.0\n",
       "2      241032 2016-01-06      False    NaN\n",
       "3      241032 2016-01-07      False    NaN\n",
       "4      241032 2016-01-08      False    NaN"
      ]
     },
     "execution_count": 252,
     "metadata": {},
     "output_type": "execute_result"
    }
   ],
   "source": [
    "calendar.head()"
   ]
  },
  {
   "cell_type": "markdown",
   "metadata": {},
   "source": [
    "#### reviews df"
   ]
  },
  {
   "cell_type": "code",
   "execution_count": 253,
   "metadata": {},
   "outputs": [],
   "source": [
    "#reviews date to datetype\n",
    "reviews['date'] = pd.to_datetime(reviews['date'])"
   ]
  },
  {
   "cell_type": "markdown",
   "metadata": {},
   "source": [
    "#### listings df"
   ]
  },
  {
   "cell_type": "code",
   "execution_count": 254,
   "metadata": {},
   "outputs": [],
   "source": [
    "#drop license, neighbourhood and square feet columns\n",
    "listings = listings.drop(columns=['license', 'neighbourhood', 'square_feet', 'experiences_offered', 'market', 'country_code', 'country'])"
   ]
  },
  {
   "cell_type": "code",
   "execution_count": 255,
   "metadata": {},
   "outputs": [],
   "source": [
    "#host_is_superhost convert to bool type\n",
    "d = {'t': True, 'f': False}\n",
    "listings['host_is_superhost'] = listings[\"host_is_superhost\"].replace(d)\n",
    "listings['has_availability'] = listings[\"has_availability\"].replace(d)"
   ]
  },
  {
   "cell_type": "code",
   "execution_count": 256,
   "metadata": {},
   "outputs": [],
   "source": [
    "#host_acceptance_rate, host_response_rate and host_response_time fill with mode\n",
    "listings['host_acceptance_rate'] = listings['host_acceptance_rate'].fillna(listings['host_acceptance_rate'].mode()[0])\n",
    "listings['host_response_rate'] = listings['host_response_rate'].fillna(listings['host_response_rate'].mode()[0])\n",
    "listings['host_response_time'] = listings['host_response_time'].fillna(listings['host_response_time'].mode()[0])\n",
    "listings['host_neighbourhood'] = listings['host_response_time'].fillna(listings['host_response_time'].mode()[0])"
   ]
  },
  {
   "cell_type": "code",
   "execution_count": 258,
   "metadata": {},
   "outputs": [],
   "source": [
    "listings['host_acceptance_rate'] = listings.host_acceptance_rate.str.replace('%', '').astype(int)\n",
    "listings['host_response_rate'] = listings.host_response_rate.str.replace('%', '').astype(int)\n",
    "listings['security_deposit'] = listings.security_deposit.str.replace('$', '').str.replace(',','').fillna(0).astype(float)\n",
    "listings['cleaning_fee'] = listings.cleaning_fee.str.replace('$', '').str.replace(',','').fillna(0).astype(float)\n",
    "listings['extra_people'] = listings.extra_people.str.replace('$', '').str.replace(',','').fillna(0).astype(float)"
   ]
  },
  {
   "cell_type": "code",
   "execution_count": 273,
   "metadata": {},
   "outputs": [
    {
     "ename": "AttributeError",
     "evalue": "Can only use .str accessor with string values!",
     "output_type": "error",
     "traceback": [
      "\u001b[1;31m---------------------------------------------------------------------------\u001b[0m",
      "\u001b[1;31mAttributeError\u001b[0m                            Traceback (most recent call last)",
      "\u001b[1;32m<ipython-input-273-09dc2e019d7b>\u001b[0m in \u001b[0;36m<module>\u001b[1;34m\u001b[0m\n\u001b[1;32m----> 1\u001b[1;33m \u001b[0mlistings\u001b[0m\u001b[1;33m[\u001b[0m\u001b[1;34m'security_deposit'\u001b[0m\u001b[1;33m]\u001b[0m \u001b[1;33m=\u001b[0m \u001b[0mlistings\u001b[0m\u001b[1;33m.\u001b[0m\u001b[0msecurity_deposit\u001b[0m\u001b[1;33m.\u001b[0m\u001b[0mstr\u001b[0m\u001b[1;33m.\u001b[0m\u001b[0mreplace\u001b[0m\u001b[1;33m(\u001b[0m\u001b[1;34m'$'\u001b[0m\u001b[1;33m,\u001b[0m \u001b[1;34m''\u001b[0m\u001b[1;33m)\u001b[0m\u001b[1;33m.\u001b[0m\u001b[0mstr\u001b[0m\u001b[1;33m.\u001b[0m\u001b[0mreplace\u001b[0m\u001b[1;33m(\u001b[0m\u001b[1;34m','\u001b[0m\u001b[1;33m,\u001b[0m\u001b[1;34m''\u001b[0m\u001b[1;33m)\u001b[0m\u001b[1;33m.\u001b[0m\u001b[0mfillna\u001b[0m\u001b[1;33m(\u001b[0m\u001b[1;36m0\u001b[0m\u001b[1;33m)\u001b[0m\u001b[1;33m.\u001b[0m\u001b[0mastype\u001b[0m\u001b[1;33m(\u001b[0m\u001b[0mfloat\u001b[0m\u001b[1;33m)\u001b[0m\u001b[1;33m\u001b[0m\u001b[1;33m\u001b[0m\u001b[0m\n\u001b[0m\u001b[0;32m      2\u001b[0m \u001b[0mlistings\u001b[0m\u001b[1;33m[\u001b[0m\u001b[1;34m'cleaning_fee'\u001b[0m\u001b[1;33m]\u001b[0m \u001b[1;33m=\u001b[0m \u001b[0mlistings\u001b[0m\u001b[1;33m.\u001b[0m\u001b[0mcleaning_fee\u001b[0m\u001b[1;33m.\u001b[0m\u001b[0mstr\u001b[0m\u001b[1;33m.\u001b[0m\u001b[0mreplace\u001b[0m\u001b[1;33m(\u001b[0m\u001b[1;34m'$'\u001b[0m\u001b[1;33m,\u001b[0m \u001b[1;34m''\u001b[0m\u001b[1;33m)\u001b[0m\u001b[1;33m.\u001b[0m\u001b[0mstr\u001b[0m\u001b[1;33m.\u001b[0m\u001b[0mreplace\u001b[0m\u001b[1;33m(\u001b[0m\u001b[1;34m','\u001b[0m\u001b[1;33m,\u001b[0m\u001b[1;34m''\u001b[0m\u001b[1;33m)\u001b[0m\u001b[1;33m.\u001b[0m\u001b[0mfillna\u001b[0m\u001b[1;33m(\u001b[0m\u001b[1;36m0\u001b[0m\u001b[1;33m)\u001b[0m\u001b[1;33m.\u001b[0m\u001b[0mastype\u001b[0m\u001b[1;33m(\u001b[0m\u001b[0mfloat\u001b[0m\u001b[1;33m)\u001b[0m\u001b[1;33m\u001b[0m\u001b[1;33m\u001b[0m\u001b[0m\n\u001b[0;32m      3\u001b[0m \u001b[0mlistings\u001b[0m\u001b[1;33m[\u001b[0m\u001b[1;34m'extra_people'\u001b[0m\u001b[1;33m]\u001b[0m \u001b[1;33m=\u001b[0m \u001b[0mlistings\u001b[0m\u001b[1;33m.\u001b[0m\u001b[0mextra_people\u001b[0m\u001b[1;33m.\u001b[0m\u001b[0mstr\u001b[0m\u001b[1;33m.\u001b[0m\u001b[0mreplace\u001b[0m\u001b[1;33m(\u001b[0m\u001b[1;34m'$'\u001b[0m\u001b[1;33m,\u001b[0m \u001b[1;34m''\u001b[0m\u001b[1;33m)\u001b[0m\u001b[1;33m.\u001b[0m\u001b[0mstr\u001b[0m\u001b[1;33m.\u001b[0m\u001b[0mreplace\u001b[0m\u001b[1;33m(\u001b[0m\u001b[1;34m','\u001b[0m\u001b[1;33m,\u001b[0m\u001b[1;34m''\u001b[0m\u001b[1;33m)\u001b[0m\u001b[1;33m.\u001b[0m\u001b[0mfillna\u001b[0m\u001b[1;33m(\u001b[0m\u001b[1;36m0\u001b[0m\u001b[1;33m)\u001b[0m\u001b[1;33m.\u001b[0m\u001b[0mastype\u001b[0m\u001b[1;33m(\u001b[0m\u001b[0mfloat\u001b[0m\u001b[1;33m)\u001b[0m\u001b[1;33m\u001b[0m\u001b[1;33m\u001b[0m\u001b[0m\n",
      "\u001b[1;32m~\\anaconda3\\lib\\site-packages\\pandas\\core\\generic.py\u001b[0m in \u001b[0;36m__getattr__\u001b[1;34m(self, name)\u001b[0m\n\u001b[0;32m   5268\u001b[0m             \u001b[1;32mor\u001b[0m \u001b[0mname\u001b[0m \u001b[1;32min\u001b[0m \u001b[0mself\u001b[0m\u001b[1;33m.\u001b[0m\u001b[0m_accessors\u001b[0m\u001b[1;33m\u001b[0m\u001b[1;33m\u001b[0m\u001b[0m\n\u001b[0;32m   5269\u001b[0m         ):\n\u001b[1;32m-> 5270\u001b[1;33m             \u001b[1;32mreturn\u001b[0m \u001b[0mobject\u001b[0m\u001b[1;33m.\u001b[0m\u001b[0m__getattribute__\u001b[0m\u001b[1;33m(\u001b[0m\u001b[0mself\u001b[0m\u001b[1;33m,\u001b[0m \u001b[0mname\u001b[0m\u001b[1;33m)\u001b[0m\u001b[1;33m\u001b[0m\u001b[1;33m\u001b[0m\u001b[0m\n\u001b[0m\u001b[0;32m   5271\u001b[0m         \u001b[1;32melse\u001b[0m\u001b[1;33m:\u001b[0m\u001b[1;33m\u001b[0m\u001b[1;33m\u001b[0m\u001b[0m\n\u001b[0;32m   5272\u001b[0m             \u001b[1;32mif\u001b[0m \u001b[0mself\u001b[0m\u001b[1;33m.\u001b[0m\u001b[0m_info_axis\u001b[0m\u001b[1;33m.\u001b[0m\u001b[0m_can_hold_identifiers_and_holds_name\u001b[0m\u001b[1;33m(\u001b[0m\u001b[0mname\u001b[0m\u001b[1;33m)\u001b[0m\u001b[1;33m:\u001b[0m\u001b[1;33m\u001b[0m\u001b[1;33m\u001b[0m\u001b[0m\n",
      "\u001b[1;32m~\\anaconda3\\lib\\site-packages\\pandas\\core\\accessor.py\u001b[0m in \u001b[0;36m__get__\u001b[1;34m(self, obj, cls)\u001b[0m\n\u001b[0;32m    185\u001b[0m             \u001b[1;31m# we're accessing the attribute of the class, i.e., Dataset.geo\u001b[0m\u001b[1;33m\u001b[0m\u001b[1;33m\u001b[0m\u001b[1;33m\u001b[0m\u001b[0m\n\u001b[0;32m    186\u001b[0m             \u001b[1;32mreturn\u001b[0m \u001b[0mself\u001b[0m\u001b[1;33m.\u001b[0m\u001b[0m_accessor\u001b[0m\u001b[1;33m\u001b[0m\u001b[1;33m\u001b[0m\u001b[0m\n\u001b[1;32m--> 187\u001b[1;33m         \u001b[0maccessor_obj\u001b[0m \u001b[1;33m=\u001b[0m \u001b[0mself\u001b[0m\u001b[1;33m.\u001b[0m\u001b[0m_accessor\u001b[0m\u001b[1;33m(\u001b[0m\u001b[0mobj\u001b[0m\u001b[1;33m)\u001b[0m\u001b[1;33m\u001b[0m\u001b[1;33m\u001b[0m\u001b[0m\n\u001b[0m\u001b[0;32m    188\u001b[0m         \u001b[1;31m# Replace the property with the accessor object. Inspired by:\u001b[0m\u001b[1;33m\u001b[0m\u001b[1;33m\u001b[0m\u001b[1;33m\u001b[0m\u001b[0m\n\u001b[0;32m    189\u001b[0m         \u001b[1;31m# http://www.pydanny.com/cached-property.html\u001b[0m\u001b[1;33m\u001b[0m\u001b[1;33m\u001b[0m\u001b[1;33m\u001b[0m\u001b[0m\n",
      "\u001b[1;32m~\\anaconda3\\lib\\site-packages\\pandas\\core\\strings.py\u001b[0m in \u001b[0;36m__init__\u001b[1;34m(self, data)\u001b[0m\n\u001b[0;32m   2039\u001b[0m \u001b[1;33m\u001b[0m\u001b[0m\n\u001b[0;32m   2040\u001b[0m     \u001b[1;32mdef\u001b[0m \u001b[0m__init__\u001b[0m\u001b[1;33m(\u001b[0m\u001b[0mself\u001b[0m\u001b[1;33m,\u001b[0m \u001b[0mdata\u001b[0m\u001b[1;33m)\u001b[0m\u001b[1;33m:\u001b[0m\u001b[1;33m\u001b[0m\u001b[1;33m\u001b[0m\u001b[0m\n\u001b[1;32m-> 2041\u001b[1;33m         \u001b[0mself\u001b[0m\u001b[1;33m.\u001b[0m\u001b[0m_inferred_dtype\u001b[0m \u001b[1;33m=\u001b[0m \u001b[0mself\u001b[0m\u001b[1;33m.\u001b[0m\u001b[0m_validate\u001b[0m\u001b[1;33m(\u001b[0m\u001b[0mdata\u001b[0m\u001b[1;33m)\u001b[0m\u001b[1;33m\u001b[0m\u001b[1;33m\u001b[0m\u001b[0m\n\u001b[0m\u001b[0;32m   2042\u001b[0m         \u001b[0mself\u001b[0m\u001b[1;33m.\u001b[0m\u001b[0m_is_categorical\u001b[0m \u001b[1;33m=\u001b[0m \u001b[0mis_categorical_dtype\u001b[0m\u001b[1;33m(\u001b[0m\u001b[0mdata\u001b[0m\u001b[1;33m)\u001b[0m\u001b[1;33m\u001b[0m\u001b[1;33m\u001b[0m\u001b[0m\n\u001b[0;32m   2043\u001b[0m         \u001b[0mself\u001b[0m\u001b[1;33m.\u001b[0m\u001b[0m_is_string\u001b[0m \u001b[1;33m=\u001b[0m \u001b[0mdata\u001b[0m\u001b[1;33m.\u001b[0m\u001b[0mdtype\u001b[0m\u001b[1;33m.\u001b[0m\u001b[0mname\u001b[0m \u001b[1;33m==\u001b[0m \u001b[1;34m\"string\"\u001b[0m\u001b[1;33m\u001b[0m\u001b[1;33m\u001b[0m\u001b[0m\n",
      "\u001b[1;32m~\\anaconda3\\lib\\site-packages\\pandas\\core\\strings.py\u001b[0m in \u001b[0;36m_validate\u001b[1;34m(data)\u001b[0m\n\u001b[0;32m   2096\u001b[0m \u001b[1;33m\u001b[0m\u001b[0m\n\u001b[0;32m   2097\u001b[0m         \u001b[1;32mif\u001b[0m \u001b[0minferred_dtype\u001b[0m \u001b[1;32mnot\u001b[0m \u001b[1;32min\u001b[0m \u001b[0mallowed_types\u001b[0m\u001b[1;33m:\u001b[0m\u001b[1;33m\u001b[0m\u001b[1;33m\u001b[0m\u001b[0m\n\u001b[1;32m-> 2098\u001b[1;33m             \u001b[1;32mraise\u001b[0m \u001b[0mAttributeError\u001b[0m\u001b[1;33m(\u001b[0m\u001b[1;34m\"Can only use .str accessor with string values!\"\u001b[0m\u001b[1;33m)\u001b[0m\u001b[1;33m\u001b[0m\u001b[1;33m\u001b[0m\u001b[0m\n\u001b[0m\u001b[0;32m   2099\u001b[0m         \u001b[1;32mreturn\u001b[0m \u001b[0minferred_dtype\u001b[0m\u001b[1;33m\u001b[0m\u001b[1;33m\u001b[0m\u001b[0m\n\u001b[0;32m   2100\u001b[0m \u001b[1;33m\u001b[0m\u001b[0m\n",
      "\u001b[1;31mAttributeError\u001b[0m: Can only use .str accessor with string values!"
     ]
    }
   ],
   "source": []
  },
  {
   "cell_type": "code",
   "execution_count": null,
   "metadata": {},
   "outputs": [],
   "source": [
    "listings['security_deposit'] = listings.security_deposit.str.replace('%', '').astype(int)"
   ]
  },
  {
   "cell_type": "code",
   "execution_count": 202,
   "metadata": {},
   "outputs": [],
   "source": [
    "#review scores fill with mean\n",
    "listings['review_scores_rating'] = listings['review_scores_rating'].fillna(listings['review_scores_rating'].mean())\n",
    "listings['review_scores_accuracy'] = listings['review_scores_accuracy'].fillna(listings['review_scores_accuracy'].mean())\n",
    "listings['review_scores_cleanliness'] = listings['review_scores_cleanliness'].fillna(listings['review_scores_cleanliness'].mean())\n",
    "listings['review_scores_checkin'] = listings['review_scores_checkin'].fillna(listings['review_scores_checkin'].mean())\n",
    "listings['review_scores_communication'] = listings['review_scores_communication'].fillna(listings['review_scores_communication'].mean())\n",
    "listings['review_scores_location'] = listings['review_scores_location'].fillna(listings['review_scores_location'].mean())\n",
    "listings['review_scores_value'] = listings['review_scores_value'].fillna(listings['review_scores_value'].mean())\n",
    "listings['reviews_per_month'] = listings['reviews_per_month'].fillna(listings['reviews_per_month'].mean())"
   ]
  },
  {
   "cell_type": "code",
   "execution_count": 203,
   "metadata": {},
   "outputs": [],
   "source": [
    "#convert first and last review date to datetime\n",
    "today = datetime.date.today()\n",
    "\n",
    "listings['first_review'] = pd.to_datetime(listings['first_review']).fillna(today)\n",
    "listings['last_review'] = pd.to_datetime(listings['last_review']).fillna(today)"
   ]
  },
  {
   "cell_type": "code",
   "execution_count": 204,
   "metadata": {},
   "outputs": [],
   "source": [
    "#create dummy variable 1 it there is picture, 0 else\n",
    "listings['thumbnail_url'] = listings.thumbnail_url.isna()\n",
    "listings['medium_url'] = listings.thumbnail_url.isna()\n",
    "listings['picture_url'] = listings.thumbnail_url.isna()\n",
    "listings['xl_picture_url'] = listings.thumbnail_url.isna()"
   ]
  },
  {
   "cell_type": "code",
   "execution_count": 205,
   "metadata": {},
   "outputs": [
    {
     "name": "stdout",
     "output_type": "stream",
     "text": [
      "<class 'pandas.core.frame.DataFrame'>\n",
      "RangeIndex: 3818 entries, 0 to 3817\n",
      "Data columns (total 85 columns):\n",
      " #   Column                            Non-Null Count  Dtype  \n",
      "---  ------                            --------------  -----  \n",
      " 0   id                                3818 non-null   int64  \n",
      " 1   listing_url                       3818 non-null   object \n",
      " 2   scrape_id                         3818 non-null   int64  \n",
      " 3   last_scraped                      3818 non-null   object \n",
      " 4   name                              3818 non-null   object \n",
      " 5   summary                           3641 non-null   object \n",
      " 6   space                             3249 non-null   object \n",
      " 7   description                       3818 non-null   object \n",
      " 8   neighborhood_overview             2786 non-null   object \n",
      " 9   notes                             2212 non-null   object \n",
      " 10  transit                           2884 non-null   object \n",
      " 11  thumbnail_url                     3818 non-null   bool   \n",
      " 12  medium_url                        3818 non-null   bool   \n",
      " 13  picture_url                       3818 non-null   bool   \n",
      " 14  xl_picture_url                    3818 non-null   bool   \n",
      " 15  host_id                           3818 non-null   int64  \n",
      " 16  host_url                          3818 non-null   object \n",
      " 17  host_name                         3816 non-null   object \n",
      " 18  host_since                        3816 non-null   object \n",
      " 19  host_location                     3810 non-null   object \n",
      " 20  host_about                        2959 non-null   object \n",
      " 21  host_response_time                3818 non-null   object \n",
      " 22  host_response_rate                3818 non-null   int32  \n",
      " 23  host_acceptance_rate              3818 non-null   int32  \n",
      " 24  host_is_superhost                 3816 non-null   object \n",
      " 25  host_thumbnail_url                3816 non-null   object \n",
      " 26  host_picture_url                  3816 non-null   object \n",
      " 27  host_neighbourhood                3818 non-null   object \n",
      " 28  host_listings_count               3816 non-null   float64\n",
      " 29  host_total_listings_count         3816 non-null   float64\n",
      " 30  host_verifications                3818 non-null   object \n",
      " 31  host_has_profile_pic              3816 non-null   object \n",
      " 32  host_identity_verified            3816 non-null   object \n",
      " 33  street                            3818 non-null   object \n",
      " 34  neighbourhood_cleansed            3818 non-null   object \n",
      " 35  neighbourhood_group_cleansed      3818 non-null   object \n",
      " 36  city                              3818 non-null   object \n",
      " 37  state                             3818 non-null   object \n",
      " 38  zipcode                           3811 non-null   object \n",
      " 39  smart_location                    3818 non-null   object \n",
      " 40  latitude                          3818 non-null   float64\n",
      " 41  longitude                         3818 non-null   float64\n",
      " 42  is_location_exact                 3818 non-null   object \n",
      " 43  property_type                     3817 non-null   object \n",
      " 44  room_type                         3818 non-null   object \n",
      " 45  accommodates                      3818 non-null   int64  \n",
      " 46  bathrooms                         3802 non-null   float64\n",
      " 47  bedrooms                          3812 non-null   float64\n",
      " 48  beds                              3817 non-null   float64\n",
      " 49  bed_type                          3818 non-null   object \n",
      " 50  amenities                         3818 non-null   object \n",
      " 51  price                             3818 non-null   object \n",
      " 52  weekly_price                      2009 non-null   object \n",
      " 53  monthly_price                     1517 non-null   object \n",
      " 54  security_deposit                  3818 non-null   object \n",
      " 55  cleaning_fee                      3818 non-null   object \n",
      " 56  guests_included                   3818 non-null   int64  \n",
      " 57  extra_people                      3818 non-null   object \n",
      " 58  minimum_nights                    3818 non-null   int64  \n",
      " 59  maximum_nights                    3818 non-null   int64  \n",
      " 60  calendar_updated                  3818 non-null   object \n",
      " 61  has_availability                  3818 non-null   bool   \n",
      " 62  availability_30                   3818 non-null   int64  \n",
      " 63  availability_60                   3818 non-null   int64  \n",
      " 64  availability_90                   3818 non-null   int64  \n",
      " 65  availability_365                  3818 non-null   int64  \n",
      " 66  calendar_last_scraped             3818 non-null   object \n",
      " 67  number_of_reviews                 3818 non-null   int64  \n",
      " 68  first_review                      3818 non-null   object \n",
      " 69  last_review                       3818 non-null   object \n",
      " 70  review_scores_rating              3818 non-null   float64\n",
      " 71  review_scores_accuracy            3818 non-null   float64\n",
      " 72  review_scores_cleanliness         3818 non-null   float64\n",
      " 73  review_scores_checkin             3818 non-null   float64\n",
      " 74  review_scores_communication       3818 non-null   float64\n",
      " 75  review_scores_location            3818 non-null   float64\n",
      " 76  review_scores_value               3818 non-null   float64\n",
      " 77  requires_license                  3818 non-null   object \n",
      " 78  jurisdiction_names                3818 non-null   object \n",
      " 79  instant_bookable                  3818 non-null   object \n",
      " 80  cancellation_policy               3818 non-null   object \n",
      " 81  require_guest_profile_picture     3818 non-null   object \n",
      " 82  require_guest_phone_verification  3818 non-null   object \n",
      " 83  calculated_host_listings_count    3818 non-null   int64  \n",
      " 84  reviews_per_month                 3818 non-null   float64\n",
      "dtypes: bool(5), float64(15), int32(2), int64(13), object(50)\n",
      "memory usage: 2.3+ MB\n"
     ]
    }
   ],
   "source": [
    "listings.info()"
   ]
  },
  {
   "cell_type": "code",
   "execution_count": 206,
   "metadata": {},
   "outputs": [
    {
     "data": {
      "text/plain": [
       "0       True\n",
       "1       True\n",
       "2       True\n",
       "3       True\n",
       "4       True\n",
       "        ... \n",
       "3813    True\n",
       "3814    True\n",
       "3815    True\n",
       "3816    True\n",
       "3817    True\n",
       "Name: has_availability, Length: 3818, dtype: bool"
      ]
     },
     "execution_count": 206,
     "metadata": {},
     "output_type": "execute_result"
    }
   ],
   "source": [
    "listings.has_availability"
   ]
  },
  {
   "cell_type": "code",
   "execution_count": 207,
   "metadata": {},
   "outputs": [],
   "source": [
    "#create dummy variables where we count text words in descriptions and return as column\n",
    "listings['dummy_transit'] = listings.transit.str.len().fillna(0).astype(int)\n",
    "listings['dummy_space'] = listings.space.str.len().fillna(0).astype(int)\n",
    "listings['dummy_notes'] = listings.notes.str.len().fillna(0).astype(int)\n",
    "listings['dummy_host_about'] = listings.host_about.str.len().fillna(0).astype(int)\n",
    "listings['dummy_neighborhood_overview'] = listings.neighborhood_overview.str.len().fillna(0).astype(int)\n",
    "listings['dummy_description'] = listings.description.str.len().fillna(0).astype(int)"
   ]
  },
  {
   "cell_type": "code",
   "execution_count": null,
   "metadata": {},
   "outputs": [],
   "source": [
    "#replace 'weekly_price', 'monthly_price' with price where missing"
   ]
  }
 ],
 "metadata": {
  "kernelspec": {
   "display_name": "Python 3",
   "language": "python",
   "name": "python3"
  },
  "language_info": {
   "codemirror_mode": {
    "name": "ipython",
    "version": 3
   },
   "file_extension": ".py",
   "mimetype": "text/x-python",
   "name": "python",
   "nbconvert_exporter": "python",
   "pygments_lexer": "ipython3",
   "version": "3.8.3"
  }
 },
 "nbformat": 4,
 "nbformat_minor": 4
}
